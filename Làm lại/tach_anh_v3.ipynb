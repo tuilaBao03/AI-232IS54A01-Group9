{
 "cells": [
  {
   "cell_type": "code",
   "execution_count": 285,
   "metadata": {},
   "outputs": [],
   "source": [
    "import math\n",
    "import cv2\n",
    "import numpy as np\n",
    "import Tien_xu_ly"
   ]
  },
  {
   "cell_type": "markdown",
   "metadata": {},
   "source": [
    "# Định nghĩa các hằng số dùng cho ngưỡng thích nghi"
   ]
  },
  {
   "cell_type": "markdown",
   "metadata": {},
   "source": [
    "\n",
    "ADAPTIVE_THRESH_BLOCK_SIZE: Đây là kích thước của khu vực lân cận sẽ được sử dụng để tính ngưỡng cục bộ. Trong trường hợp này, kích thước của khu vực là 19x19 pixel."
   ]
  },
  {
   "cell_type": "markdown",
   "metadata": {},
   "source": [
    "Ngưỡng cục bộ (adaptive threshold) là một kỹ thuật được sử dụng để chuyển đổi ảnh xám (grayscale) thành ảnh nhị phân (binary image) dựa trên một ngưỡng được tính toán dựa trên các giá trị pixel trong một khu vực lân cận xung quanh từng điểm ảnh"
   ]
  },
  {
   "cell_type": "code",
   "execution_count": 286,
   "metadata": {},
   "outputs": [],
   "source": [
    "\n",
    "ADAPTIVE_THRESH_BLOCK_SIZE = 19 \n",
    "\n"
   ]
  },
  {
   "cell_type": "markdown",
   "metadata": {},
   "source": [
    "ADAPTIVE_THRESH_WEIGHT: Đây là một hệ số được sử dụng trong phương pháp tính toán ngưỡng cục bộ. Nó ảnh hưởng đến mức độ làm mờ và làm sắc nét ảnh kết quả. Trong trường hợp này, giá trị của hệ số là 9."
   ]
  },
  {
   "cell_type": "code",
   "execution_count": 287,
   "metadata": {},
   "outputs": [],
   "source": [
    "ADAPTIVE_THRESH_WEIGHT = 9"
   ]
  },
  {
   "cell_type": "code",
   "execution_count": 288,
   "metadata": {},
   "outputs": [],
   "source": [
    "# Biến đếm số lượng biển số xe\n",
    "n = 1  \n",
    "\n",
    "# Định nghĩa các hằng số dùng cho lọc kí tự\n",
    "Min_char = 0.01\n",
    "Max_char = 0.1"
   ]
  },
  {
   "cell_type": "code",
   "execution_count": 289,
   "metadata": {},
   "outputs": [],
   "source": [
    "\n",
    "def adjust_brightness_gray(image):\n",
    "    img_gray_lp = cv2.cvtColor(image, cv2.COLOR_BGR2GRAY)\n",
    "    _, img = cv2.threshold(img_gray_lp, 200, 255, cv2.THRESH_BINARY + cv2.THRESH_OTSU)\n",
    "    img= cv2.erode(img, (3, 3))\n",
    "    img = cv2.dilate(img, (3, 3))\n",
    "    return img"
   ]
  },
  {
   "cell_type": "code",
   "execution_count": 290,
   "metadata": {},
   "outputs": [
    {
     "data": {
      "text/plain": [
       "(-0.5, 1025.5, 242.5, -0.5)"
      ]
     },
     "execution_count": 290,
     "metadata": {},
     "output_type": "execute_result"
    },
    {
     "data": {
      "image/png": "[encoded data removed]",
      "text/plain": [
       "<Figure size 640x480 with 1 Axes>"
      ]
     },
     "metadata": {},
     "output_type": "display_data"
    }
   ],
   "source": [
    "from matplotlib import pyplot as plt\n",
    "\n",
    "\n",
    "roi = cv2.imread(\"output/cropped_plate.jpg\")\n",
    "roi = adjust_brightness_gray(roi)\n",
    "\n",
    "plt.imshow(roi, cmap=\"gray\")\n",
    "plt.title(\"Ảnh Contour trên ảnh xám\")\n",
    "plt.axis(\"off\")"
   ]
  },
  {
   "cell_type": "code",
   "execution_count": 291,
   "metadata": {},
   "outputs": [],
   "source": [
    "import cv2\n",
    "import numpy as np\n",
    "import math\n",
    "\n",
    "# Giả sử bạn đã có img, contours, anh_xam và anh_nhi_phan từ trước\n",
    "def tachanh(img) :\n",
    "    # img = cv2.imread(url)\n",
    "    img = cv2.resize(img, dsize=(1920, 1080))\n",
    "    anh_xam, anh_nhi_phan = Tien_xu_ly.tienxuly(img)\n",
    "    #Trong xử lý ảnh, việc tạo ảnh biên bằng phương pháp Canny (Canny edge detection) giúp phát hiện và nhận dạng các ranh giới hoặc biên của các đối tượng trong ảnh. Điều này có thể hữu ích trong nhiều ứng dụng, bao gồm nhận dạng vật thể, phân loại và phát hiện các đặc điểm quan trọng trong hình ảnh.\n",
    "    canny_image = cv2.Canny(anh_nhi_phan, 250, 255)  # Tạo ảnh biên bằng phương pháp Canny\n",
    "    kernel = np.ones((3, 3), np.uint8)  # Tạo kernel cho phép dãn (Tạo ra một kernel có kích thước 3x3 với tất cả các giá trị là 1. Kernel này được sử dụng để xác định cách phép dãn sẽ được áp dụng cho ảnh.)\n",
    "    dilated_image = cv2.dilate(canny_image, kernel, iterations=1) \n",
    "    # Dãn ảnh (Áp dụng phép dãn cho ảnh canny_image bằng cách sử dụng kernel được chỉ định. Tham số iterations=1 xác định số lần lặp của quá trình dãn, trong trường hợp này là một lần.)\n",
    "    # cv2.imshow(\"dilated_image\",dilated_image)\n",
    "    contours, hierarchy = cv2.findContours(dilated_image, cv2.RETR_TREE, cv2.CHAIN_APPROX_SIMPLE)  # Tìm các đường viền trong ảnh\n",
    "    contours = sorted(contours, key=cv2.contourArea, reverse=True)[:10]  # Sắp xếp và lấy 10 đường viền có diện tích lớn nhất\n",
    "    screenCnt = []  # Danh sách các đường viền của biển số xe\n",
    "    for c in contours:\n",
    "        peri = cv2.arcLength(c, True)  # Tính chu vi của đường viền\n",
    "        approx = cv2.approxPolyDP(c, 0.06 * peri, True)  # Làm xấp xỉ đa giác, chỉ giữ đường viền có 4 cạnh\n",
    "        [x, y, w, h] = cv2.boundingRect(approx.copy())  # Tạo hình chữ nhật bao quanh đa giác\n",
    "        \n",
    "        if len(approx) == 4:  # Nếu đường viền có 4 cạnh\n",
    "            # Kiểm tra xem các đường chéo gần với 90 độ\n",
    "            angles = []\n",
    "            for i in range(4):\n",
    "                pt1 = tuple(approx[i][0])\n",
    "                pt2 = tuple(approx[(i + 1) % 4][0])\n",
    "                pt3 = tuple(approx[(i + 2) % 4][0])\n",
    "                angle = math.degrees(math.atan2(pt3[1]-pt2[1], pt3[0]-pt2[0]) - math.atan2(pt1[1]-pt2[1], pt1[0]-pt2[0]))\n",
    "                angle = abs(angle) if angle < 180 else 360 - abs(angle)\n",
    "                angles.append(angle)\n",
    "\n",
    "            if all(angle > 70 and angle < 100 for angle in angles):\n",
    "                screenCnt.append(approx)  # Thêm vào danh sách các đường viền của biển số xe\n",
    "                cv2.putText(img, str(len(approx.copy())), (x, y), cv2.FONT_HERSHEY_DUPLEX, 2, (0, 255, 0), 3)\n",
    "    if not screenCnt:  # Nếu không có biển số nào được phát hiện\n",
    "        detected = 0\n",
    "        print(\"No plate detected\")\n",
    "    else:\n",
    "        detected = 1\n",
    "\n",
    "    if detected == 1:\n",
    "        for screenCnt in screenCnt:\n",
    "            cv2.drawContours(img, [screenCnt], -1, (0, 255, 0), 3)  # Khoanh vùng biển số xe\n",
    "            # cv2.imshow(\"Contours\", img)\n",
    "\n",
    "            ############## Tìm góc của biển số xe #####################\n",
    "            (x1, y1) = screenCnt[0, 0]\n",
    "            (x2, y2) = screenCnt[1, 0]\n",
    "            (x3, y3) = screenCnt[2, 0]\n",
    "            (x4, y4) = screenCnt[3, 0]\n",
    "            array = [[x1, y1], [x2, y2], [x3, y3], [x4, y4]]\n",
    "            sorted_array = sorted(array, reverse=True, key=lambda x: x[1])\n",
    "            (x1, y1) = sorted_array[0]\n",
    "            (x2, y2) = sorted_array[1]\n",
    "            doi = abs(y1 - y2)  # Tính độ chênh lệch y\n",
    "            ke = abs(x1 - x2)  # Tính độ chênh lệch x\n",
    "            angle = math.atan(doi / ke) * (180.0 / math.pi)  # Tính góc nghiêng của biển số\n",
    "\n",
    "            ####################################\n",
    "\n",
    "            ########## Cắt biển số và căn chỉnh đúng góc ################\n",
    "            mask = np.zeros(anh_xam.shape, np.uint8)  # Tạo mặt nạ đen với kích thước bằng ảnh gốc\n",
    "            new_image = cv2.drawContours(mask, [screenCnt], 0, 255, -1)  # Vẽ đường viền biển số lên mặt nạ\n",
    "            cv2.imwrite(\"output/mask.jpg\", new_image)\n",
    "\n",
    "            # Cắt ảnh\n",
    "            (x, y) = np.where(mask == 255)  # Lấy tọa độ của các pixel nằm trong biển số\n",
    "          \n",
    "          \n",
    "            (topx, topy) = (np.min(x), np.min(y))  # Tọa độ trên cùng của biển số\n",
    "            (bottomx, bottomy) = (np.max(x), np.max(y))  # Tọa độ dưới cùng của biển số\n",
    "\n",
    "            roi = img[topx:bottomx, topy:bottomy]  # Cắt vùng ảnh chứa biển số\n",
    "            \n",
    "            imgThresh = anh_nhi_phan[topx:bottomx, topy:bottomy]  # Cắt vùng ảnh ngưỡng chứa biển số\n",
    "            ptPlateCenter = (bottomx - topx) / 2, (bottomy - topy) / 2  # Tính trung điểm của biển số\n",
    "\n",
    "            if x1 < x2:\n",
    "                rotationMatrix = cv2.getRotationMatrix2D(ptPlateCenter, -angle, 1.0)  # Ma trận xoay với góc âm\n",
    "            else:\n",
    "                rotationMatrix = cv2.getRotationMatrix2D(ptPlateCenter, angle, 1.0)  # Ma trận xoay với góc dương\n",
    "\n",
    "            roi = cv2.warpAffine(roi, rotationMatrix, (bottomy - topy, bottomx - topx))  # Xoay ảnh biển số\n",
    "            imgThresh = cv2.warpAffine(imgThresh, rotationMatrix, (bottomy - topy, bottomx - topx))  # Xoay ảnh ngưỡng biển số\n",
    "            roi = cv2.resize(roi, (0, 0), fx=3, fy=3)  # Phóng to ảnh biển số\n",
    "            # roi = adjust_brightness_gray(roi)\n",
    "            imgThresh = cv2.resize(imgThresh, (0, 0), fx=3, fy=3)  # Phóng to ảnh ngưỡng biển số\n",
    "            \n",
    "            # # Hiện ảnh sau mỗi công đoạn\n",
    "            # cv2.imshow(\"Cropped Plate\", roi)\n",
    "            # cv2.imshow(\"Cropped Threshold Plate\", imgThresh)\n",
    "            \n",
    "            # Lưu lại ảnh \n",
    "            cv2.imwrite(\"output/contours_detected.jpg\", img)\n",
    "            cv2.imwrite(\"output/cropped_plate.jpg\", roi)\n",
    "            cv2.imwrite(\"output/cropped_threshold_plate.jpg\", imgThresh)\n",
    "            \n",
    "            \n",
    "           \n",
    "    return angle,imgThresh\n",
    "            \n",
    "            \n",
    "\n",
    "    \n"
   ]
  },
  {
   "cell_type": "code",
   "execution_count": 292,
   "metadata": {},
   "outputs": [],
   "source": [
    "def chuyen_den_trang(image):\n",
    "    # Chuyển ảnh màu sang ảnh xám\n",
    "    gray_image = cv2.cvtColor(image, cv2.COLOR_BGR2GRAY)\n",
    "    # Áp dụng ngưỡng nhị phân để tạo ra ảnh đen trắng\n",
    "    _, black_white_image = cv2.threshold(gray_image, 127, 255, cv2.THRESH_BINARY)\n",
    "    # cộng nền trắng \n",
    "    #  _, black_white_image = cv2.threshold(gray_image, 127, 255, cv2.THRESH_BINARY)\n",
    "    # \n",
    "    \n",
    "    return black_white_image"
   ]
  },
  {
   "cell_type": "code",
   "execution_count": 293,
   "metadata": {},
   "outputs": [],
   "source": [
    "from matplotlib import pyplot as plt\n",
    "import cv2\n",
    "\n",
    "def dao_den_thanh_trang(image):\n",
    "    # Đảo ảnh nhị phân bằng phép toán bitwise NOT\n",
    "    inverted_image = cv2.bitwise_not(image)\n",
    "    return inverted_image\n",
    "\n",
    "\n",
    "\n",
    "\n"
   ]
  },
  {
   "cell_type": "code",
   "execution_count": 294,
   "metadata": {},
   "outputs": [],
   "source": [
    "def add_padding(image):\n",
    "    height, width = image.shape[:2]\n",
    "    target_size = max(height, width)\n",
    "    squared_image = np.zeros((target_size, target_size), dtype=np.uint8) \n",
    "    x_offset = (target_size - width) // 2\n",
    "    y_offset = (target_size - height) // 2\n",
    "    squared_image[y_offset:y_offset+height, x_offset:x_offset+width] = image\n",
    "    return squared_image"
   ]
  },
  {
   "cell_type": "code",
   "execution_count": 295,
   "metadata": {},
   "outputs": [],
   "source": [
    "def merge_arrays(a, b):\n",
    "    result = a.copy()  # Tạo một bản sao của mảng a để không ảnh hưởng đến mảng gốc\n",
    "    result.extend(b)   # Sử dụng phương thức extend() để ghép mảng b vào mảng a\n",
    "    return result\n"
   ]
  },
  {
   "cell_type": "markdown",
   "metadata": {},
   "source": [
    "đọc ảnh từ theo thứ tự"
   ]
  },
  {
   "cell_type": "code",
   "execution_count": 296,
   "metadata": {},
   "outputs": [],
   "source": [
    "import matplotlib.pyplot as plt\n",
    "import matplotlib.image as mpimg\n",
    "import os\n",
    "\n",
    "def display_images_from_paths(paths):\n",
    "    \"\"\"\n",
    "    Hiển thị các ảnh từ các đường dẫn trong mảng.\n",
    "\n",
    "    Args:\n",
    "    paths (list): Mảng chứa các đường dẫn đến các ảnh.\n",
    "\n",
    "    Returns:\n",
    "    None\n",
    "    \"\"\"\n",
    "    num_images = len(paths)\n",
    "    fig, axs = plt.subplots(1, num_images, figsize=(15, 5))\n",
    "\n",
    "    for i, path in enumerate(paths):\n",
    "        if os.path.exists(path):  # Kiểm tra xem tệp có tồn tại không\n",
    "            img = mpimg.imread(path)\n",
    "            axs[i].imshow(img,cmap=\"gray\")\n",
    "            axs[i].axis('off')\n",
    "        else:\n",
    "            print(f\"Tệp '{path}' không tồn tại.\")\n",
    "\n",
    "    plt.show()\n",
    "\n",
    "# Mảng chứa các đường dẫn đến các ảnh\n",
    "\n",
    "\n",
    "\n",
    "# Hiển thị ảnh từ các đường dẫn trong mảng\n",
    "\n"
   ]
  },
  {
   "cell_type": "code",
   "execution_count": 297,
   "metadata": {},
   "outputs": [],
   "source": [
    "import cv2\n",
    "import numpy as np\n",
    "def lam_net_anh(path):\n",
    "    # Đọc ảnh\n",
    "    image = cv2.imread(path)\n",
    "    \n",
    "    \n",
    "\n",
    "    # Tạo kernel làm sắc nét\n",
    "    sharpening_kernel = np.array([\n",
    "        [-1, -1, -1],\n",
    "        [-1,  9, -1],\n",
    "        [-1, -1, -1]\n",
    "    ])\n",
    "\n",
    "    # Áp dụng bộ lọc làm sắc nét\n",
    "    sharpened_image = cv2.filter2D(image, -1, sharpening_kernel)\n",
    "\n",
    "    # Hiển thị ảnh gốc và ảnh đã làm nét\n",
    "\n",
    "\n",
    "\n",
    "    # Lưu ảnh đã làm nét\n",
    "    cv2.imwrite('filter_image/sharpened_image.jpg', sharpened_image)\n",
    "    return sharpened_image"
   ]
  },
  {
   "cell_type": "code",
   "execution_count": 298,
   "metadata": {},
   "outputs": [],
   "source": [
    "import os\n",
    "from matplotlib import pyplot as plt\n",
    "import shutil\n",
    "\n",
    "\n",
    "import cv2\n",
    "def phantachkytu(path):\n",
    "    img = lam_net_anh(path)\n",
    "    gocxoay,imgThresh=tachanh(img)\n",
    "    roi = cv2.imread(\"output/cropped_plate.jpg\")\n",
    "    roi = adjust_brightness_gray(roi)\n",
    "    # roi,_ = Tien_xu_ly.tienxuly(roi)\n",
    "    # roi = cv2.cvtColor(roi, cv2.COLOR_BGR2RGB)\n",
    "    # nếu muốn nền trắng : roi = cv2.imread(\"output/cropped_plate.jpg\")\n",
    "    kerel3 = cv2.getStructuringElement(cv2.MORPH_RECT, (3, 3))  # Tạo kernel hình chữ nhật\n",
    "    thre_mor = cv2.morphologyEx(imgThresh, cv2.MORPH_DILATE, kerel3)  # Áp dụng phép dãn ảnh\n",
    "    \n",
    "    cont, hier = cv2.findContours(thre_mor, cv2.RETR_EXTERNAL, cv2.CHAIN_APPROX_SIMPLE)\n",
    "    \n",
    "    # # cv2.imshow(str(n + 20), thre_mor)  # Hiển thị ảnh đã dãn\n",
    "    # cv2.drawContours(roi, cont, -1, (100, 255, 255), 2)  # Vẽ các đường viền ký tự lên ảnh biển số\n",
    "\n",
    "    ##################### Lọc các ký tự #################\n",
    "    char_x_ind = {}  # Tạo dictionary lưu chỉ số của các ký tự\n",
    "    char_x = []  # Danh sách lưu tọa độ x của các ký tự\n",
    "    kichthuoc = cv2.imread(\"output/cropped_plate.jpg\")\n",
    "    height, width, _ = kichthuoc.shape  # Lấy kích thước ảnh biển số\n",
    "    roiarea = height * width  # Tính diện tích ảnh biển số\n",
    "    \n",
    "    \n",
    "    for ind, cnt in enumerate(cont):\n",
    "\n",
    "        (x, y, w, h) = cv2.boundingRect(cont[ind])  # Tạo hình chữ nhật bao quanh ký tự\n",
    "        # ratiochar = w / h  # Tính tỷ lệ chiều rộng / chiều cao của ký tự\n",
    "        # char_area = w * h  # Tính diện tích của ký tự\n",
    "        # # cv2.putText(roi, str(char_area), (x, y + 20), cv2.FONT_HERSHEY_DUPLEX, 2, (255, 255, 0), 2)\n",
    "        # # cv2.putText(roi, str(ratiochar), (x, y + 20), cv2.FONT_HERSHEY_DUPLEX, 2, (255, 255, 0), 2)\n",
    "\n",
    "        # if (Min_char * roiarea < char_area < Max_char * roiarea) and (0.1< ratiochar < 0.7):  # Lọc các ký tự hợp lệ\n",
    "        if x in char_x:  # Nếu tọa độ x đã tồn tại, tăng x lên 1 để tránh trùng lặp\n",
    "            x = x + 1\n",
    "        char_x.append(x)  # Thêm tọa độ x vào danh sách\n",
    "        char_x_ind[x] = ind  # Lưu chỉ số của ký tự vào dictionary\n",
    "\n",
    "            # cv2.putText(roi, str(char_area), (x, y + 20), cv2.FONT_HERSHEY_DUPLEX, 2, (255, 255, 0), 2)\n",
    "    \n",
    "    b = abs(gocxoay)\n",
    "    kichthuoc = cv2.imread(\"output/cropped_threshold_plate.jpg\")\n",
    "    kichthuoc = chuyen_den_trang(kichthuoc)\n",
    "    height__,weight= kichthuoc.shape\n",
    "    gocxoay = math.radians(gocxoay)\n",
    "    height_ = height__- math.sin(gocxoay)*weight\n",
    "    print(height_)\n",
    "    # Sắp xếp các tọa độ x theo thứ tự tăng dần\n",
    "    char_x = sorted(char_x)  \n",
    "    # Sao chép hình ảnh gốc để vẽ tất cả các hình chữ nhật\n",
    "    roi_with_rects = roi.copy()\n",
    "\n",
    "    # Màu sắc mới cho khung hình chữ nhật\n",
    "    rectangle_color = (0, 0, 0)  # Màu đen\n",
    "    # Path to the directory you want to delete\n",
    "    dir_path = 'chars'\n",
    "\n",
    "    # Delete the directory and all its contents if it exists\n",
    "    if os.path.exists(dir_path):\n",
    "        shutil.rmtree(dir_path)\n",
    "        \n",
    "    tenfile1=[]\n",
    "    tenfile2=[]\n",
    "    line1=[]\n",
    "    line2=[]\n",
    "    for i in char_x:\n",
    "        (x, y, w, h) = cv2.boundingRect(cont[char_x_ind[i]])  # Tạo hình chữ nhật bao quanh ký tự\n",
    "        # Vẽ hình chữ nhật bao quanh ký tự với màu mới\n",
    "        cv2.rectangle(roi_with_rects, (x, y), (x + w, y + h), rectangle_color, 2)  \n",
    "        char_image = roi[y:y+h, x:x+w]\n",
    "        if 4.5 > h / w > 1 and h > height_/2.6 and x>4  :\n",
    "            \n",
    "\n",
    "            # Create the directory\n",
    "            os.makedirs(dir_path, exist_ok=True)\n",
    "            \n",
    "            \n",
    "            if y < height_/3 :\n",
    "                i=1\n",
    "                # char_image = chuyen_den_trang(char_image)\n",
    "                # char_image = add_padding(char_image)\n",
    "                char_image = dao_den_thanh_trang(char_image)\n",
    "                # char_image = add_padding(char_image)\n",
    "                line1.append(char_image)\n",
    "                \n",
    "                cv2.imwrite(f'chars/char_dong_{i}_{x}_{y}_{h}_{w}_{height_}_{weight}.png', char_image)  # Save the character image to a file\n",
    "                g = f'chars/char_dong_{i}_{x}_{y}_{h}_{w}_{height_}_{weight}.png'\n",
    "                tenfile1.append(g)\n",
    "            else :\n",
    "                i=2\n",
    "                # char_image = chuyen_den_trang(char_image)\n",
    "                # char_image = add_padding(char_image)\n",
    "                char_image = dao_den_thanh_trang(char_image)\n",
    "                # char_image = add_padding(char_image)\n",
    "                line2.append(char_image)\n",
    "                cv2.imwrite(f'chars/char_dong_{i}_{x}_{y}_{h}_{w}_{height_}_{weight}.png', char_image)\n",
    "                g = f'chars/char_dong_{i}_{x}_{y}_{h}_{w}_{height_}_{weight}.png'\n",
    "                tenfile2.append(g)\n",
    "    \n",
    "    # Chuyển đổi từ BGR sang RGB để hiển thị bằng Matplotlib\n",
    "    roi_with_rects_rgb = cv2.cvtColor(roi_with_rects, cv2.COLOR_BGR2RGB)\n",
    "    plt.title(\" Hiển thị hình ảnh với tất cả các hình chữ nhật\")\n",
    "    plt.imshow(roi_with_rects_rgb,cmap='gray')  # Hiển thị hình ảnh với tất cả các hình chữ nhật\n",
    "    plt.show()\n",
    "    return tenfile1,tenfile2,gocxoay,height__,weight,height_,line1,line2"
   ]
  },
  {
   "cell_type": "code",
   "execution_count": 299,
   "metadata": {},
   "outputs": [
    {
     "name": "stdout",
     "output_type": "stream",
     "text": [
      "No plate detected\n"
     ]
    },
    {
     "ename": "UnboundLocalError",
     "evalue": "cannot access local variable 'angle' where it is not associated with a value",
     "output_type": "error",
     "traceback": [
      "\u001b[1;31m---------------------------------------------------------------------------\u001b[0m",
      "\u001b[1;31mUnboundLocalError\u001b[0m                         Traceback (most recent call last)",
      "Cell \u001b[1;32mIn[299], line 2\u001b[0m\n\u001b[0;32m      1\u001b[0m path \u001b[38;5;241m=\u001b[39m \u001b[38;5;124m\"\u001b[39m\u001b[38;5;124mimage/106.jpg\u001b[39m\u001b[38;5;124m\"\u001b[39m\n\u001b[1;32m----> 2\u001b[0m a,b,gocxoay,h,w,he,line1,line2\u001b[38;5;241m=\u001b[39m\u001b[43mphantachkytu\u001b[49m\u001b[43m(\u001b[49m\u001b[43mpath\u001b[49m\u001b[43m)\u001b[49m\n\u001b[0;32m      3\u001b[0m m \u001b[38;5;241m=\u001b[39m merge_arrays(a,b)\n\u001b[0;32m      4\u001b[0m \u001b[38;5;66;03m# print(m)\u001b[39;00m\n",
      "Cell \u001b[1;32mIn[298], line 9\u001b[0m, in \u001b[0;36mphantachkytu\u001b[1;34m(path)\u001b[0m\n\u001b[0;32m      7\u001b[0m \u001b[38;5;28;01mdef\u001b[39;00m \u001b[38;5;21mphantachkytu\u001b[39m(path):\n\u001b[0;32m      8\u001b[0m     img \u001b[38;5;241m=\u001b[39m lam_net_anh(path)\n\u001b[1;32m----> 9\u001b[0m     gocxoay,imgThresh\u001b[38;5;241m=\u001b[39m\u001b[43mtachanh\u001b[49m\u001b[43m(\u001b[49m\u001b[43mimg\u001b[49m\u001b[43m)\u001b[49m\n\u001b[0;32m     10\u001b[0m     roi \u001b[38;5;241m=\u001b[39m cv2\u001b[38;5;241m.\u001b[39mimread(\u001b[38;5;124m\"\u001b[39m\u001b[38;5;124moutput/cropped_plate.jpg\u001b[39m\u001b[38;5;124m\"\u001b[39m)\n\u001b[0;32m     11\u001b[0m     roi \u001b[38;5;241m=\u001b[39m adjust_brightness_gray(roi)\n",
      "Cell \u001b[1;32mIn[291], line 103\u001b[0m, in \u001b[0;36mtachanh\u001b[1;34m(img)\u001b[0m\n\u001b[0;32m     98\u001b[0m         cv2\u001b[38;5;241m.\u001b[39mimwrite(\u001b[38;5;124m\"\u001b[39m\u001b[38;5;124moutput/cropped_plate.jpg\u001b[39m\u001b[38;5;124m\"\u001b[39m, roi)\n\u001b[0;32m     99\u001b[0m         cv2\u001b[38;5;241m.\u001b[39mimwrite(\u001b[38;5;124m\"\u001b[39m\u001b[38;5;124moutput/cropped_threshold_plate.jpg\u001b[39m\u001b[38;5;124m\"\u001b[39m, imgThresh)\n\u001b[1;32m--> 103\u001b[0m \u001b[38;5;28;01mreturn\u001b[39;00m \u001b[43mangle\u001b[49m,imgThresh\n",
      "\u001b[1;31mUnboundLocalError\u001b[0m: cannot access local variable 'angle' where it is not associated with a value"
     ]
    }
   ],
   "source": [
    "path = \"image/106.jpg\"\n",
    "a,b,gocxoay,h,w,he,line1,line2=phantachkytu(path)\n",
    "m = merge_arrays(a,b)\n",
    "# print(m)\n",
    "print(gocxoay)\n",
    "print(h)\n",
    "print(w)\n",
    "print(he)\n",
    "display_images_from_paths(m)\n",
    "\n"
   ]
  },
  {
   "cell_type": "code",
   "execution_count": null,
   "metadata": {},
   "outputs": [
    {
     "name": "stdout",
     "output_type": "stream",
     "text": [
      "\u001b[1m1/1\u001b[0m \u001b[32m━━━━━━━━━━━━━━━━━━━━\u001b[0m\u001b[37m\u001b[0m \u001b[1m0s\u001b[0m 106ms/step\n",
      "\u001b[1m1/1\u001b[0m \u001b[32m━━━━━━━━━━━━━━━━━━━━\u001b[0m\u001b[37m\u001b[0m \u001b[1m0s\u001b[0m 31ms/step\n",
      "\u001b[1m1/1\u001b[0m \u001b[32m━━━━━━━━━━━━━━━━━━━━\u001b[0m\u001b[37m\u001b[0m \u001b[1m0s\u001b[0m 32ms/step\n",
      "\u001b[1m1/1\u001b[0m \u001b[32m━━━━━━━━━━━━━━━━━━━━\u001b[0m\u001b[37m\u001b[0m \u001b[1m0s\u001b[0m 37ms/step\n",
      "\u001b[1m1/1\u001b[0m \u001b[32m━━━━━━━━━━━━━━━━━━━━\u001b[0m\u001b[37m\u001b[0m \u001b[1m0s\u001b[0m 31ms/step\n",
      "\u001b[1m1/1\u001b[0m \u001b[32m━━━━━━━━━━━━━━━━━━━━\u001b[0m\u001b[37m\u001b[0m \u001b[1m0s\u001b[0m 48ms/step\n",
      "\u001b[1m1/1\u001b[0m \u001b[32m━━━━━━━━━━━━━━━━━━━━\u001b[0m\u001b[37m\u001b[0m \u001b[1m0s\u001b[0m 45ms/step\n",
      "\u001b[1m1/1\u001b[0m \u001b[32m━━━━━━━━━━━━━━━━━━━━\u001b[0m\u001b[37m\u001b[0m \u001b[1m0s\u001b[0m 29ms/step\n"
     ]
    },
    {
     "data": {
      "image/png": "[encoded data removed]",
      "text/plain": [
       "<Figure size 1000x600 with 8 Axes>"
      ]
     },
     "metadata": {},
     "output_type": "display_data"
    },
    {
     "name": "stdout",
     "output_type": "stream",
     "text": [
      "\u001b[1m1/1\u001b[0m \u001b[32m━━━━━━━━━━━━━━━━━━━━\u001b[0m\u001b[37m\u001b[0m \u001b[1m0s\u001b[0m 30ms/step\n",
      "\u001b[1m1/1\u001b[0m \u001b[32m━━━━━━━━━━━━━━━━━━━━\u001b[0m\u001b[37m\u001b[0m \u001b[1m0s\u001b[0m 28ms/step\n",
      "\u001b[1m1/1\u001b[0m \u001b[32m━━━━━━━━━━━━━━━━━━━━\u001b[0m\u001b[37m\u001b[0m \u001b[1m0s\u001b[0m 44ms/step\n",
      "\u001b[1m1/1\u001b[0m \u001b[32m━━━━━━━━━━━━━━━━━━━━\u001b[0m\u001b[37m\u001b[0m \u001b[1m0s\u001b[0m 26ms/step\n",
      "\u001b[1m1/1\u001b[0m \u001b[32m━━━━━━━━━━━━━━━━━━━━\u001b[0m\u001b[37m\u001b[0m \u001b[1m0s\u001b[0m 37ms/step\n",
      "\u001b[1m1/1\u001b[0m \u001b[32m━━━━━━━━━━━━━━━━━━━━\u001b[0m\u001b[37m\u001b[0m \u001b[1m0s\u001b[0m 39ms/step\n",
      "\u001b[1m1/1\u001b[0m \u001b[32m━━━━━━━━━━━━━━━━━━━━\u001b[0m\u001b[37m\u001b[0m \u001b[1m0s\u001b[0m 25ms/step\n",
      "\u001b[1m1/1\u001b[0m \u001b[32m━━━━━━━━━━━━━━━━━━━━\u001b[0m\u001b[37m\u001b[0m \u001b[1m0s\u001b[0m 33ms/step\n",
      "30F53639\n"
     ]
    }
   ],
   "source": [
    "from tensorflow.keras.models import load_model\n",
    "\n",
    "# Load the entire model back.\n",
    "model = load_model('model/model_v2.keras')\n",
    "import numpy as np\n",
    "import cv2\n",
    "import matplotlib.pyplot as plt\n",
    "char_list = line1+line2\n",
    "# Load the saved model\n",
    "# Predicting the output\n",
    "def fixdimension(img):\n",
    "    new_img = np.zeros((28,28,3))\n",
    "    for i in range(3):\n",
    "        new_img[:,:,i] = img\n",
    "    return new_img\n",
    "\n",
    "def show_results(char):\n",
    "    dic = {}\n",
    "    characters = '0123456789ABCDEFGHIJKLMNOPQRSTUVWXYZ'\n",
    "    for i, c in enumerate(characters):\n",
    "        dic[i] = c\n",
    "\n",
    "    output = []\n",
    "    for ch in char: # iterating over the characters\n",
    "        img = cv2.resize(ch, (28, 28), interpolation=cv2.INTER_LINEAR)\n",
    "\n",
    "        img = fixdimension(img)\n",
    "        img = img.reshape(1, 28, 28, 3) # preparing image for the model\n",
    "        y = model.predict(img)[0] # predicting the class\n",
    "        class_index = np.argmax(y) # get the index of the highest probability class\n",
    "        character = dic[class_index] # map index to character\n",
    "        output.append(character) # storing the result in a list\n",
    "\n",
    "    plate_number = ''.join(output)\n",
    "\n",
    "    return plate_number\n",
    "from tensorflow.keras.models import load_model\n",
    "import numpy as np\n",
    "import cv2\n",
    "import matplotlib.pyplot as plt\n",
    "\n",
    "# Get predicted characters\n",
    "predicted_characters = show_results(char_list)\n",
    "\n",
    "# Segmented characters and their predicted value.\n",
    "plt.figure(figsize=(10,6))\n",
    "for i, ch in enumerate(char_list):\n",
    "    img = cv2.resize(ch, (28,28), interpolation=cv2.INTER_AREA)\n",
    "    plt.subplot(3, 4, i + 1)\n",
    "    plt.imshow(img, cmap='gray')\n",
    "    plt.title(f'predicted: {predicted_characters[i]}') # Now predicted_characters is defined\n",
    "    plt.axis('off')\n",
    "plt.show()\n",
    "print(show_results(char_list))\n"
   ]
  },
  {
   "cell_type": "code",
   "execution_count": null,
   "metadata": {},
   "outputs": [],
   "source": [
    "\n",
    "\n",
    "\n",
    "\n"
   ]
  }
 ],
 "metadata": {
  "kernelspec": {
   "display_name": "Python 3",
   "language": "python",
   "name": "python3"
  },
  "language_info": {
   "codemirror_mode": {
    "name": "ipython",
    "version": 3
   },
   "file_extension": ".py",
   "mimetype": "text/x-python",
   "name": "python",
   "nbconvert_exporter": "python",
   "pygments_lexer": "ipython3",
   "version": "3.12.3"
  }
 },
 "nbformat": 4,
 "nbformat_minor": 2
}
