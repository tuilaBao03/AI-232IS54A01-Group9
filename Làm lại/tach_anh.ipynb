{
 "cells": [
  {
   "cell_type": "code",
   "execution_count": 1,
   "metadata": {},
   "outputs": [],
   "source": [
    "import math\n",
    "import cv2\n",
    "import numpy as np\n",
    "import Tien_xu_ly"
   ]
  },
  {
   "cell_type": "markdown",
   "metadata": {},
   "source": [
    "# Định nghĩa các hằng số dùng cho ngưỡng thích nghi"
   ]
  },
  {
   "cell_type": "markdown",
   "metadata": {},
   "source": [
    "\n",
    "ADAPTIVE_THRESH_BLOCK_SIZE: Đây là kích thước của khu vực lân cận sẽ được sử dụng để tính ngưỡng cục bộ. Trong trường hợp này, kích thước của khu vực là 19x19 pixel."
   ]
  },
  {
   "cell_type": "markdown",
   "metadata": {},
   "source": [
    "Ngưỡng cục bộ (adaptive threshold) là một kỹ thuật được sử dụng để chuyển đổi ảnh xám (grayscale) thành ảnh nhị phân (binary image) dựa trên một ngưỡng được tính toán dựa trên các giá trị pixel trong một khu vực lân cận xung quanh từng điểm ảnh"
   ]
  },
  {
   "cell_type": "code",
   "execution_count": 2,
   "metadata": {},
   "outputs": [],
   "source": [
    "\n",
    "ADAPTIVE_THRESH_BLOCK_SIZE = 19 \n",
    "\n"
   ]
  },
  {
   "cell_type": "markdown",
   "metadata": {},
   "source": [
    "ADAPTIVE_THRESH_WEIGHT: Đây là một hệ số được sử dụng trong phương pháp tính toán ngưỡng cục bộ. Nó ảnh hưởng đến mức độ làm mờ và làm sắc nét ảnh kết quả. Trong trường hợp này, giá trị của hệ số là 9."
   ]
  },
  {
   "cell_type": "code",
   "execution_count": 3,
   "metadata": {},
   "outputs": [],
   "source": [
    "ADAPTIVE_THRESH_WEIGHT = 9"
   ]
  },
  {
   "cell_type": "code",
   "execution_count": 4,
   "metadata": {},
   "outputs": [],
   "source": [
    "# Biến đếm số lượng biển số xe\n",
    "n = 1  \n",
    "\n",
    "# Định nghĩa các hằng số dùng cho lọc kí tự\n",
    "Min_char = 0.01\n",
    "Max_char = 0.09"
   ]
  },
  {
   "cell_type": "markdown",
   "metadata": {},
   "source": [
    "Đọc ảnh đầu vào và resize ảnh về kích thước 1920x1080"
   ]
  },
  {
   "cell_type": "code",
   "execution_count": 5,
   "metadata": {},
   "outputs": [],
   "source": [
    "img = cv2.imread(\"data/image/1.jpg\")\n",
    "img = cv2.resize(img, dsize=(1920, 1080))"
   ]
  },
  {
   "cell_type": "markdown",
   "metadata": {},
   "source": [
    "tăng độ tương phản"
   ]
  },
  {
   "cell_type": "code",
   "execution_count": 6,
   "metadata": {},
   "outputs": [],
   "source": [
    "\n",
    "anh_xam, anh_nhi_phan = Tien_xu_ly.tienxuly(img)\n"
   ]
  },
  {
   "cell_type": "code",
   "execution_count": 7,
   "metadata": {},
   "outputs": [],
   "source": [
    "#Trong xử lý ảnh, việc tạo ảnh biên bằng phương pháp Canny (Canny edge detection) giúp phát hiện và nhận dạng các ranh giới hoặc biên của các đối tượng trong ảnh. Điều này có thể hữu ích trong nhiều ứng dụng, bao gồm nhận dạng vật thể, phân loại và phát hiện các đặc điểm quan trọng trong hình ảnh.\n",
    "canny_image = cv2.Canny(anh_nhi_phan, 250, 255)  # Tạo ảnh biên bằng phương pháp Canny\n",
    "kernel = np.ones((3, 3), np.uint8)  # Tạo kernel cho phép dãn (Tạo ra một kernel có kích thước 3x3 với tất cả các giá trị là 1. Kernel này được sử dụng để xác định cách phép dãn sẽ được áp dụng cho ảnh.)\n",
    "dilated_image = cv2.dilate(canny_image, kernel, iterations=1) \n",
    "# Dãn ảnh (Áp dụng phép dãn cho ảnh canny_image bằng cách sử dụng kernel được chỉ định. Tham số iterations=1 xác định số lần lặp của quá trình dãn, trong trường hợp này là một lần.)\n",
    "# cv2.imshow(\"dilated_image\",dilated_image)\n"
   ]
  },
  {
   "cell_type": "code",
   "execution_count": 8,
   "metadata": {},
   "outputs": [],
   "source": [
    "contours, hierarchy = cv2.findContours(dilated_image, cv2.RETR_TREE, cv2.CHAIN_APPROX_SIMPLE)  # Tìm các đường viền trong ảnh\n",
    "contours = sorted(contours, key=cv2.contourArea, reverse=True)[:10]  # Sắp xếp và lấy 10 đường viền có diện tích lớn nhất\n",
    "# cv2.drawContours(img, contours, -1, (255, 0, 255), 3) # Vẽ tất cả các đường viền trong hình lớn"
   ]
  },
  {
   "cell_type": "code",
   "execution_count": 9,
   "metadata": {},
   "outputs": [],
   "source": [
    "import cv2\n",
    "import numpy as np\n",
    "import math\n",
    "\n",
    "# Giả sử bạn đã có img, contours, anh_xam và anh_nhi_phan từ trước\n",
    "def tachanh(url) :\n",
    "    img = cv2.imread(url)\n",
    "    img = cv2.resize(img, dsize=(1920, 1080))\n",
    "    anh_xam, anh_nhi_phan = Tien_xu_ly.tienxuly(img)\n",
    "    #Trong xử lý ảnh, việc tạo ảnh biên bằng phương pháp Canny (Canny edge detection) giúp phát hiện và nhận dạng các ranh giới hoặc biên của các đối tượng trong ảnh. Điều này có thể hữu ích trong nhiều ứng dụng, bao gồm nhận dạng vật thể, phân loại và phát hiện các đặc điểm quan trọng trong hình ảnh.\n",
    "    canny_image = cv2.Canny(anh_nhi_phan, 250, 255)  # Tạo ảnh biên bằng phương pháp Canny\n",
    "    kernel = np.ones((3, 3), np.uint8)  # Tạo kernel cho phép dãn (Tạo ra một kernel có kích thước 3x3 với tất cả các giá trị là 1. Kernel này được sử dụng để xác định cách phép dãn sẽ được áp dụng cho ảnh.)\n",
    "    dilated_image = cv2.dilate(canny_image, kernel, iterations=1) \n",
    "    # Dãn ảnh (Áp dụng phép dãn cho ảnh canny_image bằng cách sử dụng kernel được chỉ định. Tham số iterations=1 xác định số lần lặp của quá trình dãn, trong trường hợp này là một lần.)\n",
    "    # cv2.imshow(\"dilated_image\",dilated_image)\n",
    "    contours, hierarchy = cv2.findContours(dilated_image, cv2.RETR_TREE, cv2.CHAIN_APPROX_SIMPLE)  # Tìm các đường viền trong ảnh\n",
    "    contours = sorted(contours, key=cv2.contourArea, reverse=True)[:10]  # Sắp xếp và lấy 10 đường viền có diện tích lớn nhất\n",
    "    screenCnt = []  # Danh sách các đường viền của biển số xe\n",
    "    for c in contours:\n",
    "        peri = cv2.arcLength(c, True)  # Tính chu vi của đường viền\n",
    "        approx = cv2.approxPolyDP(c, 0.06 * peri, True)  # Làm xấp xỉ đa giác, chỉ giữ đường viền có 4 cạnh\n",
    "        [x, y, w, h] = cv2.boundingRect(approx.copy())  # Tạo hình chữ nhật bao quanh đa giác\n",
    "        ratio = w / h  # Tính tỷ lệ chiều rộng / chiều cao\n",
    "        if len(approx) == 4:  # Nếu đường viền có 4 cạnh\n",
    "            screenCnt.append(approx)  # Thêm vào danh sách các đường viền của biển số xe\n",
    "            cv2.putText(img, str(len(approx.copy())), (x, y), cv2.FONT_HERSHEY_DUPLEX, 2, (0, 255, 0), 3)\n",
    "    if not screenCnt:  # Nếu không có biển số nào được phát hiện\n",
    "        detected = 0\n",
    "        print(\"No plate detected\")\n",
    "    else:\n",
    "        detected = 1\n",
    "\n",
    "    if detected == 1:\n",
    "        for screenCnt in screenCnt:\n",
    "            cv2.drawContours(img, [screenCnt], -1, (0, 255, 0), 3)  # Khoanh vùng biển số xe\n",
    "            # cv2.imshow(\"Contours\", img)\n",
    "\n",
    "            ############## Tìm góc của biển số xe #####################\n",
    "            (x1, y1) = screenCnt[0, 0]\n",
    "            (x2, y2) = screenCnt[1, 0]\n",
    "            (x3, y3) = screenCnt[2, 0]\n",
    "            (x4, y4) = screenCnt[3, 0]\n",
    "            array = [[x1, y1], [x2, y2], [x3, y3], [x4, y4]]\n",
    "            sorted_array = sorted(array, reverse=True, key=lambda x: x[1])\n",
    "            (x1, y1) = sorted_array[0]\n",
    "            (x2, y2) = sorted_array[1]\n",
    "            doi = abs(y1 - y2)  # Tính độ chênh lệch y\n",
    "            ke = abs(x1 - x2)  # Tính độ chênh lệch x\n",
    "            angle = math.atan(doi / ke) * (180.0 / math.pi)  # Tính góc nghiêng của biển số\n",
    "\n",
    "            ####################################\n",
    "\n",
    "            ########## Cắt biển số và căn chỉnh đúng góc ################\n",
    "            mask = np.zeros(anh_xam.shape, np.uint8)  # Tạo mặt nạ đen với kích thước bằng ảnh gốc\n",
    "            new_image = cv2.drawContours(mask, [screenCnt], 0, 255, -1)  # Vẽ đường viền biển số lên mặt nạ\n",
    "            # cv2.imshow(\"Mask\", new_image)\n",
    "\n",
    "            # Cắt ảnh\n",
    "            (x, y) = np.where(mask == 255)  # Lấy tọa độ của các pixel nằm trong biển số\n",
    "            print(x,y)\n",
    "            (topx, topy) = (np.min(x), np.min(y))  # Tọa độ trên cùng của biển số\n",
    "            (bottomx, bottomy) = (np.max(x), np.max(y))  # Tọa độ dưới cùng của biển số\n",
    "\n",
    "            roi = img[topx:bottomx, topy:bottomy]  # Cắt vùng ảnh chứa biển số\n",
    "            imgThresh = anh_nhi_phan[topx:bottomx, topy:bottomy]  # Cắt vùng ảnh ngưỡng chứa biển số\n",
    "            ptPlateCenter = (bottomx - topx) / 2, (bottomy - topy) / 2  # Tính trung điểm của biển số\n",
    "\n",
    "            if x1 < x2:\n",
    "                rotationMatrix = cv2.getRotationMatrix2D(ptPlateCenter, -angle, 1.0)  # Ma trận xoay với góc âm\n",
    "            else:\n",
    "                rotationMatrix = cv2.getRotationMatrix2D(ptPlateCenter, angle, 1.0)  # Ma trận xoay với góc dương\n",
    "\n",
    "            roi = cv2.warpAffine(roi, rotationMatrix, (bottomy - topy, bottomx - topx))  # Xoay ảnh biển số\n",
    "            imgThresh = cv2.warpAffine(imgThresh, rotationMatrix, (bottomy - topy, bottomx - topx))  # Xoay ảnh ngưỡng biển số\n",
    "            roi = cv2.resize(roi, (0, 0), fx=3, fy=3)  # Phóng to ảnh biển số\n",
    "            imgThresh = cv2.resize(imgThresh, (0, 0), fx=3, fy=3)  # Phóng to ảnh ngưỡng biển số\n",
    "            \n",
    "            # # Hiện ảnh sau mỗi công đoạn\n",
    "            # cv2.imshow(\"Cropped Plate\", roi)\n",
    "            # cv2.imshow(\"Cropped Threshold Plate\", imgThresh)\n",
    "            \n",
    "            # Lưu lại ảnh nếu cần thiết\n",
    "            cv2.imwrite(\"output/contours_detected.jpg\", img)\n",
    "            cv2.imwrite(\"output/cropped_plate.jpg\", roi)\n",
    "            cv2.imwrite(\"output/cropped_threshold_plate.jpg\", imgThresh)\n",
    "            kerel3 = cv2.getStructuringElement(cv2.MORPH_RECT, (3, 3))  # Tạo kernel hình chữ nhật\n",
    "            thre_mor = cv2.morphologyEx(imgThresh, cv2.MORPH_DILATE, kerel3)  # Áp dụng phép dãn ảnh\n",
    "            cont, hier = cv2.findContours(thre_mor, cv2.RETR_EXTERNAL, cv2.CHAIN_APPROX_SIMPLE)  # Tìm các đường viền trong ảnh đã dãn\n",
    "\n",
    "            # cv2.imshow(str(n + 20), thre_mor)  # Hiển thị ảnh đã dãn\n",
    "            cv2.drawContours(roi, cont, -1, (100, 255, 255), 2)  # Vẽ các đường viền ký tự lên ảnh biển số\n",
    "\n",
    "            \n",
    "            \n",
    "\n",
    "    cv2.waitKey(0)  # Chờ người dùng nhấn phím\n",
    "    cv2.destroyAllWindows()  # Đóng tất cả các cửa sổ hiển thị\n"
   ]
  },
  {
   "cell_type": "code",
   "execution_count": 10,
   "metadata": {},
   "outputs": [
    {
     "name": "stdout",
     "output_type": "stream",
     "text": [
      "[ 89  89  89 ... 986 986 986] [1443 1444 1445 ... 1584 1585 1586]\n",
      "[110 110 110 ... 976 976 976] [1294 1295 1296 ... 1565 1566 1567]\n",
      "[114 114 114 ... 972 972 972] [1291 1292 1293 ... 1559 1560 1561]\n"
     ]
    }
   ],
   "source": [
    "tachanh(\"R.jpg\")"
   ]
  },
  {
   "cell_type": "code",
   "execution_count": 11,
   "metadata": {},
   "outputs": [],
   "source": [
    "# Tìm các đường viền tương ứng với biển số hoặc mẫu ký tự\n",
    "from matplotlib import pyplot as plt\n",
    "\n",
    "\n",
    "def find_contours(dimensions, img) :\n",
    "\n",
    "    # Tìm tất cả các đường viền trong ảnh\n",
    "    cntrs, _ = cv2.findContours(img.copy(), cv2.RETR_TREE, cv2.CHAIN_APPROX_SIMPLE)\n",
    "\n",
    "    # Lấy các kích thước tiềm năng\n",
    "    lower_width = dimensions[0]\n",
    "    upper_width = dimensions[1]\n",
    "    lower_height = dimensions[2]\n",
    "    upper_height = dimensions[3]\n",
    "    \n",
    "    # Kiểm tra 5 hoặc 15 đường viền lớn nhất cho biển số hoặc ký tự tương ứng\n",
    "    cntrs = sorted(cntrs, key=cv2.contourArea, reverse=True)[:15]\n",
    "    \n",
    "    ii = cv2.imread('contour.jpg')\n",
    "    \n",
    "    x_cntr_list = []\n",
    "    target_contours = []\n",
    "    img_res = []\n",
    "    for cntr in cntrs :\n",
    "        # Phát hiện đường viền trong ảnh nhị phân và trả về tọa độ của hình chữ nhật bao quanh nó\n",
    "        intX, intY, intWidth, intHeight = cv2.boundingRect(cntr)\n",
    "        \n",
    "        # Kiểm tra kích thước của đường viền để lọc ra các ký tự dựa trên kích thước của đường viền\n",
    "        if intWidth > lower_width and intWidth < upper_width and intHeight > lower_height and intHeight < upper_height :\n",
    "            x_cntr_list.append(intX) # Lưu tọa độ x của đường viền ký tự, dùng sau này để sắp xếp các đường viền\n",
    "\n",
    "            char_copy = np.zeros((44,24))\n",
    "            # Trích xuất mỗi ký tự bằng cách sử dụng tọa độ hình chữ nhật bao quanh nó\n",
    "            char = img[intY:intY+intHeight, intX:intX+intWidth]\n",
    "            char = cv2.resize(char, (20, 40))\n",
    "            \n",
    "            cv2.rectangle(ii, (intX,intY), (intWidth+intX, intY+intHeight), (50,21,200), 2)\n",
    "            plt.imshow(ii, cmap='gray')\n",
    "\n",
    "            # Tạo định dạng kết quả cho việc phân loại: đảo ngược màu sắc\n",
    "            char = cv2.subtract(255, char)\n",
    "\n",
    "            # Đổi kích thước ảnh thành 24x44 với viền màu đen\n",
    "            char_copy[2:42, 2:22] = char\n",
    "            char_copy[0:2, :] = 0\n",
    "            char_copy[:, 0:2] = 0\n",
    "            char_copy[42:44, :] = 0\n",
    "            char_copy[:, 22:24] = 0\n",
    "\n",
    "            img_res.append(char_copy) # Danh sách lưu trữ ảnh nhị phân của ký tự (chưa được sắp xếp)\n",
    "            \n",
    "    # Hiển thị\n",
    "    plt.show()\n",
    "    # Hàm tùy ý lưu trữ danh sách đã được sắp xếp của các chỉ số ký tự\n",
    "    indices = sorted(range(len(x_cntr_list)), key=lambda k: x_cntr_list[k])\n",
    "    img_res_copy = []\n",
    "    for idx in indices:\n",
    "        img_res_copy.append(img_res[idx])# lưu trữ các ảnh ký tự theo chỉ số của chúng\n",
    "    img_res = np.array(img_res_copy)\n",
    "\n",
    "    return img_res\n"
   ]
  },
  {
   "cell_type": "code",
   "execution_count": 14,
   "metadata": {},
   "outputs": [],
   "source": [
    "from matplotlib import pyplot as plt\n",
    "\n",
    "\n",
    "def segment_characters(url) :\n",
    "    image = cv2.imread(url)\n",
    "    # Preprocess cropped license plate image\n",
    "    img_lp = cv2.resize(image, (333, 75))\n",
    "    img_gray_lp = cv2.cvtColor(img_lp, cv2.COLOR_BGR2GRAY)\n",
    "    _, img_binary_lp = cv2.threshold(img_gray_lp, 200, 255, cv2.THRESH_BINARY+cv2.THRESH_OTSU)\n",
    "    img_binary_lp = cv2.erode(img_binary_lp, (3,3))\n",
    "    img_binary_lp = cv2.dilate(img_binary_lp, (3,3))\n",
    "\n",
    "    LP_WIDTH = img_binary_lp.shape[0]\n",
    "    LP_HEIGHT = img_binary_lp.shape[1]\n",
    "\n",
    "    # Make borders white\n",
    "    img_binary_lp[0:3,:] = 255\n",
    "    img_binary_lp[:,0:3] = 255\n",
    "    img_binary_lp[72:75,:] = 255\n",
    "    img_binary_lp[:,330:333] = 255\n",
    "\n",
    "    # Estimations of character contours sizes of cropped license plates\n",
    "    dimensions = [LP_WIDTH/6,\n",
    "                       LP_WIDTH/2,\n",
    "                       LP_HEIGHT/10,\n",
    "                       2*LP_HEIGHT/3]\n",
    "    plt.imshow(img_binary_lp, cmap='gray')\n",
    "    plt.show()\n",
    "    cv2.imwrite('contour.jpg',img_binary_lp)\n",
    "\n",
    "    # Get contours within cropped license plate\n",
    "    char_list = find_contours(dimensions, img_binary_lp)\n",
    "\n",
    "    return char_list"
   ]
  },
  {
   "cell_type": "code",
   "execution_count": 17,
   "metadata": {},
   "outputs": [
    {
     "data": {
      "image/png": "[encoded data removed]",
      "text/plain": [
       "<Figure size 640x480 with 1 Axes>"
      ]
     },
     "metadata": {},
     "output_type": "display_data"
    }
   ],
   "source": [
    "\n",
    "char = segment_characters(\"output/cropped_plate.jpg\")"
   ]
  }
 ],
 "metadata": {
  "kernelspec": {
   "display_name": "Python 3",
   "language": "python",
   "name": "python3"
  },
  "language_info": {
   "codemirror_mode": {
    "name": "ipython",
    "version": 3
   },
   "file_extension": ".py",
   "mimetype": "text/x-python",
   "name": "python",
   "nbconvert_exporter": "python",
   "pygments_lexer": "ipython3",
   "version": "3.12.2"
  }
 },
 "nbformat": 4,
 "nbformat_minor": 2
}
